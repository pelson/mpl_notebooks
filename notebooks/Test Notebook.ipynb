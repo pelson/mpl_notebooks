{
 "metadata": {
  "name": "",
  "signature": "sha256:e8739cb1711c0fb824127be6b6edbe28d7b39752754175c3c22ef7f744da7e06"
 },
 "nbformat": 3,
 "nbformat_minor": 0,
 "worksheets": []
}