{
 "metadata": {
  "keywords": [
   "spines",
   "axes",
   "axis"
  ],
  "name": "",
  "signature": "sha256:af29e2b7a087bbb0e10e6b8500c3191cef4d56b9d4fea533173f19786741baf5",
  "title": "ticks_and_spines example code: spines_demo_bounds.py"
 },
 "nbformat": 3,
 "nbformat_minor": 0,
 "worksheets": [
  {
   "cells": [
    {
     "cell_type": "heading",
     "level": 1,
     "metadata": {},
     "source": [
      "Spines Demo \u2013 Bounds"
     ]
    },
    {
     "cell_type": "code",
     "collapsed": false,
     "input": [
      "\"\"\"\n",
      "Demo of spines using custom bounds to limit the extent of the spine.\n",
      "\"\"\"\n",
      "import numpy as np\n",
      "import matplotlib.pyplot as plt\n",
      "\n",
      "\n",
      "x = np.linspace(0, 2*np.pi, 50)\n",
      "y = np.sin(x)\n",
      "y2 = y + 0.1 * np.random.normal(size=x.shape)\n",
      "\n",
      "fig, ax = plt.subplots()\n",
      "ax.plot(x, y, 'k--')\n",
      "ax.plot(x, y2, 'ro')\n",
      "\n",
      "# set ticks and tick labels\n",
      "ax.set_xlim((0, 2*np.pi))\n",
      "ax.set_xticks([0, np.pi, 2*np.pi])\n",
      "ax.set_xticklabels(['0', '$\\pi$','2$\\pi$'])\n",
      "ax.set_ylim((-1.5, 1.5))\n",
      "ax.set_yticks([-1, 0, 1])\n",
      "\n",
      "# Only draw spine between the y-ticks\n",
      "ax.spines['left'].set_bounds(-1, 1)\n",
      "# Hide the right and top spines\n",
      "ax.spines['right'].set_visible(False)\n",
      "ax.spines['top'].set_visible(False)\n",
      "# Only show ticks on the left and bottom spines\n",
      "ax.yaxis.set_ticks_position('left')\n",
      "ax.xaxis.set_ticks_position('bottom')\n",
      "\n",
      "plt.show()"
     ],
     "language": "python",
     "metadata": {},
     "outputs": [
      {
       "metadata": {},
       "output_type": "display_data",
       "png": "[encoded data removed]",
       "text": [
        "<matplotlib.figure.Figure at 0x10d1527d0>"
       ]
      }
     ],
     "prompt_number": 1
    }
   ],
   "metadata": {}
  }
 ]
}