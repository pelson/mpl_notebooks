{
 "metadata": {
  "keywords": [
   "integral"
  ],
  "name": "",
  "signature": "sha256:53bb3c6a04bce306cbc367ea863ae71215d61373e3cbf232f7d168fc05ca5870",
  "title": "showcase example code: integral_demo.py"
 },
 "nbformat": 3,
 "nbformat_minor": 0,
 "worksheets": [
  {
   "cells": [
    {
     "cell_type": "heading",
     "level": 1,
     "metadata": {},
     "source": [
      "Integral Demo"
     ]
    },
    {
     "cell_type": "markdown",
     "metadata": {},
     "source": [
      "Although this is a simple example, it demonstrates some important tweaks:\n",
      "- A simple line plot with custom color and line width.\n",
      "- A shaded region created using a Polygon patch.\n",
      "- A text label with mathtext rendering.\n",
      "- figtext calls to label the x- and y-axes.\n",
      "- Use of axis spines to hide the top and right spines.\n",
      "- Custom tick placement and labels."
     ]
    },
    {
     "cell_type": "code",
     "collapsed": false,
     "input": [
      "\"\"\"\n",
      "Plot demonstrating the integral as the area under a curve.\n",
      "\"\"\"\n",
      "import numpy as np\n",
      "import matplotlib.pyplot as plt\n",
      "from matplotlib.patches import Polygon\n",
      "\n",
      "\n",
      "def func(x):\n",
      "    return (x - 3) * (x - 5) * (x - 7) + 85\n",
      "\n",
      "\n",
      "a, b = 2, 9 # integral limits\n",
      "x = np.linspace(0, 10)\n",
      "y = func(x)\n",
      "\n",
      "fig, ax = plt.subplots()\n",
      "plt.plot(x, y, 'r', linewidth=2)\n",
      "plt.ylim(ymin=0)\n",
      "\n",
      "# Make the shaded region\n",
      "ix = np.linspace(a, b)\n",
      "iy = func(ix)\n",
      "verts = [(a, 0)] + list(zip(ix, iy)) + [(b, 0)]\n",
      "poly = Polygon(verts, facecolor='0.9', edgecolor='0.5')\n",
      "ax.add_patch(poly)\n",
      "\n",
      "plt.text(0.5 * (a + b), 30, r\"$\\int_a^b f(x)\\mathrm{d}x$\",\n",
      "         horizontalalignment='center', fontsize=20)\n",
      "\n",
      "plt.figtext(0.9, 0.05, '$x$')\n",
      "plt.figtext(0.1, 0.9, '$y$')\n",
      "\n",
      "ax.spines['right'].set_visible(False)\n",
      "ax.spines['top'].set_visible(False)\n",
      "ax.xaxis.set_ticks_position('bottom')\n",
      "\n",
      "ax.set_xticks((a, b))\n",
      "ax.set_xticklabels(('$a$', '$b$'))\n",
      "ax.set_yticks([])\n",
      "\n",
      "plt.show()\n",
      "\n"
     ],
     "language": "python",
     "metadata": {},
     "outputs": [
      {
       "metadata": {},
       "output_type": "display_data",
       "png": "[encoded data removed]",
       "text": [
        "<matplotlib.figure.Figure at 0x10cef6590>"
       ]
      }
     ],
     "prompt_number": 1
    }
   ],
   "metadata": {}
  }
 ]
}