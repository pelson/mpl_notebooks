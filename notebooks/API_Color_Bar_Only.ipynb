{
 "metadata": {
  "keywords": [
   "python",
   "matplotlib",
   "pylab",
   "color bar",
   "example"
  ],
  "name": "",
  "signature": "sha256:d22d083bad1927b118a0a5202a8ebfb1395ca79a81e1a6c9164bf3619394609c",
  "title": "api example code: colorbar_only.py"
 },
 "nbformat": 3,
 "nbformat_minor": 0,
 "worksheets": [
  {
   "cells": [
    {
     "cell_type": "heading",
     "level": 1,
     "metadata": {},
     "source": [
      "API Color Bar Example"
     ]
    },
    {
     "cell_type": "code",
     "collapsed": false,
     "input": [
      "'''\n",
      "Make a colorbar as a separate figure.\n",
      "'''\n",
      "\n",
      "from matplotlib import pyplot\n",
      "import matplotlib as mpl\n",
      "\n",
      "# Make a figure and axes with dimensions as desired.\n",
      "fig = pyplot.figure(figsize=(8,3))\n",
      "ax1 = fig.add_axes([0.05, 0.80, 0.9, 0.15])\n",
      "ax2 = fig.add_axes([0.05, 0.475, 0.9, 0.15])\n",
      "ax3 = fig.add_axes([0.05, 0.15, 0.9, 0.15])\n",
      "\n",
      "# Set the colormap and norm to correspond to the data for which\n",
      "# the colorbar will be used.\n",
      "cmap = mpl.cm.cool\n",
      "norm = mpl.colors.Normalize(vmin=5, vmax=10)\n",
      "\n",
      "# ColorbarBase derives from ScalarMappable and puts a colorbar\n",
      "# in a specified axes, so it has everything needed for a\n",
      "# standalone colorbar.  There are many more kwargs, but the\n",
      "# following gives a basic continuous colorbar with ticks\n",
      "# and labels.\n",
      "cb1 = mpl.colorbar.ColorbarBase(ax1, cmap=cmap,\n",
      "                                   norm=norm,\n",
      "                                   orientation='horizontal')\n",
      "cb1.set_label('Some Units')\n",
      "\n",
      "# The second example illustrates the use of a ListedColormap, a\n",
      "# BoundaryNorm, and extended ends to show the \"over\" and \"under\"\n",
      "# value colors.\n",
      "cmap = mpl.colors.ListedColormap(['r', 'g', 'b', 'c'])\n",
      "cmap.set_over('0.25')\n",
      "cmap.set_under('0.75')\n",
      "\n",
      "# If a ListedColormap is used, the length of the bounds array must be\n",
      "# one greater than the length of the color list.  The bounds must be\n",
      "# monotonically increasing.\n",
      "bounds = [1, 2, 4, 7, 8]\n",
      "norm = mpl.colors.BoundaryNorm(bounds, cmap.N)\n",
      "cb2 = mpl.colorbar.ColorbarBase(ax2, cmap=cmap,\n",
      "                                     norm=norm,\n",
      "                                     # to use 'extend', you must\n",
      "                                     # specify two extra boundaries:\n",
      "                                     boundaries=[0]+bounds+[13],\n",
      "                                     extend='both',\n",
      "                                     ticks=bounds, # optional\n",
      "                                     spacing='proportional',\n",
      "                                     orientation='horizontal')\n",
      "cb2.set_label('Discrete intervals, some other units')\n",
      "\n",
      "# The third example illustrates the use of custom length colorbar\n",
      "# extensions, used on a colorbar with discrete intervals.\n",
      "cmap = mpl.colors.ListedColormap([[0., .4, 1.], [0., .8, 1.],\n",
      "    [1., .8, 0.], [1., .4, 0.]])\n",
      "cmap.set_over((1., 0., 0.))\n",
      "cmap.set_under((0., 0., 1.))\n",
      "\n",
      "bounds = [-1., -.5, 0., .5, 1.]\n",
      "norm = mpl.colors.BoundaryNorm(bounds, cmap.N)\n",
      "cb3 = mpl.colorbar.ColorbarBase(ax3, cmap=cmap,\n",
      "                                     norm=norm,\n",
      "                                     boundaries=[-10]+bounds+[10],\n",
      "                                     extend='both',\n",
      "                                     # Make the length of each extension\n",
      "                                     # the same as the length of the\n",
      "                                     # interior colors:\n",
      "                                     extendfrac='auto',\n",
      "                                     ticks=bounds,\n",
      "                                     spacing='uniform',\n",
      "                                     orientation='horizontal')\n",
      "cb3.set_label('Custom extension lengths, some other units')\n",
      "\n",
      "pyplot.show()"
     ],
     "language": "python",
     "metadata": {},
     "outputs": [
      {
       "metadata": {},
       "output_type": "display_data",
       "png": "[encoded data removed]",
       "text": [
        "<matplotlib.figure.Figure at 0x7fb500cd39d0>"
       ]
      }
     ],
     "prompt_number": 1
    }
   ],
   "metadata": {}
  }
 ]
}