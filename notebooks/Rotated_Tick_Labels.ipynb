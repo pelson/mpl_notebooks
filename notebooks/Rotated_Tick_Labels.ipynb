{
 "metadata": {
  "keywords": [
   "ticks",
   "rotated",
   "axes",
   "axis"
  ],
  "name": "",
  "signature": "sha256:76394eac75b31ff1a6b6052d9ce6376c41584606d0b3a92c87194c4d338e101b",
  "title": "ticks_and_spines example code: ticklabels_demo_rotation.py"
 },
 "nbformat": 3,
 "nbformat_minor": 0,
 "worksheets": [
  {
   "cells": [
    {
     "cell_type": "heading",
     "level": 1,
     "metadata": {},
     "source": [
      "Rotated Tick Labels"
     ]
    },
    {
     "cell_type": "code",
     "collapsed": false,
     "input": [
      "\"\"\"\n",
      "Demo of custom tick-labels with user-defined rotation.\n",
      "\"\"\"\n",
      "import matplotlib.pyplot as plt\n",
      "\n",
      "\n",
      "x = [1, 2, 3, 4]\n",
      "y = [1, 4, 9, 6]\n",
      "labels = ['Frogs', 'Hogs', 'Bogs', 'Slogs']\n",
      "\n",
      "plt.plot(x, y, 'ro')\n",
      "# You can specify a rotation for the tick labels in degrees or with keywords.\n",
      "plt.xticks(x, labels, rotation='vertical')\n",
      "# Pad margins so that markers don't get clipped by the axes\n",
      "plt.margins(0.2)\n",
      "# Tweak spacing to prevent clipping of tick-labels\n",
      "plt.subplots_adjust(bottom=0.15)\n",
      "plt.show()"
     ],
     "language": "python",
     "metadata": {},
     "outputs": [
      {
       "metadata": {},
       "output_type": "display_data",
       "png": "[encoded data removed]",
       "text": [
        "<matplotlib.figure.Figure at 0x10c776050>"
       ]
      }
     ],
     "prompt_number": 1
    }
   ],
   "metadata": {}
  }
 ]
}