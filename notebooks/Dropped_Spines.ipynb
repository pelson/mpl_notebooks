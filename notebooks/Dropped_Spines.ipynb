{
 "metadata": {
  "keywords": [
   "spines",
   "dropped",
   "axes",
   "axis"
  ],
  "name": "",
  "signature": "sha256:6a963d906aa572e5f7e72725a55c2bd0f5b275e0fa03aef55af07397eb5ec889",
  "title": "ticks_and_spines example code: spines_demo_dropped"
 },
 "nbformat": 3,
 "nbformat_minor": 0,
 "worksheets": [
  {
   "cells": [
    {
     "cell_type": "heading",
     "level": 1,
     "metadata": {},
     "source": [
      "Dropped Spines"
     ]
    },
    {
     "cell_type": "code",
     "collapsed": false,
     "input": [
      "\"\"\"\n",
      "Demo of spines offset from the axes (a.k.a. \"dropped spines\").\n",
      "\"\"\"\n",
      "import numpy as np\n",
      "import matplotlib.pyplot as plt\n",
      "\n",
      "\n",
      "fig, ax = plt.subplots()\n",
      "\n",
      "image = np.random.uniform(size=(10, 10))\n",
      "ax.imshow(image, cmap=plt.cm.gray, interpolation='nearest')\n",
      "ax.set_title('dropped spines')\n",
      "\n",
      "# Move left and bottom spines outward by 10 points\n",
      "ax.spines['left'].set_position(('outward', 10))\n",
      "ax.spines['bottom'].set_position(('outward', 10))\n",
      "# Hide the right and top spines\n",
      "ax.spines['right'].set_visible(False)\n",
      "ax.spines['top'].set_visible(False)\n",
      "# Only show ticks on the left and bottom spines\n",
      "ax.yaxis.set_ticks_position('left')\n",
      "ax.xaxis.set_ticks_position('bottom')\n",
      "\n",
      "plt.show()"
     ],
     "language": "python",
     "metadata": {},
     "outputs": [
      {
       "metadata": {},
       "output_type": "display_data",
       "png": "[encoded data removed]",
       "text": [
        "<matplotlib.figure.Figure at 0x10ca74a90>"
       ]
      }
     ],
     "prompt_number": 1
    }
   ],
   "metadata": {}
  }
 ]
}