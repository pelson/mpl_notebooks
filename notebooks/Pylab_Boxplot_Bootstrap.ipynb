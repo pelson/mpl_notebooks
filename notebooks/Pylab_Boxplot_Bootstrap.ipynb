{
 "metadata": {
  "keywords": [
   "python",
   "matplotlib",
   "pylab",
   "boxplot",
   "box-and-whisker",
   "example"
  ],
  "name": "",
  "signature": "sha256:91d2b20dcc737f564b75018b3e2dc19c1f6257cb721ef74010b24e1fae3abb55",
  "title": "pylab_examples example code: boxplot_demo3.py"
 },
 "nbformat": 3,
 "nbformat_minor": 0,
 "worksheets": [
  {
   "cells": [
    {
     "cell_type": "heading",
     "level": 1,
     "metadata": {},
     "source": [
      "Pylab Bxplot Bootstrap Example"
     ]
    },
    {
     "cell_type": "markdown",
     "metadata": {},
     "source": [
      "Here the bootstrap option is used in the calling arguments of the Boxplot plotting function.\n",
      "\n",
      "Box plots are a useful way of characterizing data with nongaussian statistics. (i.e., where the underlying probability distribution has thick tails, or is skewed) A more indepth example can be found at http://en.wikipedia.org/wiki/Box_plot"
     ]
    },
    {
     "cell_type": "code",
     "collapsed": false,
     "input": [
      "import matplotlib.pyplot as plt\n",
      "import numpy as np\n",
      "\n",
      "def fakeBootStrapper(n):\n",
      "    '''\n",
      "    This is just a placeholder for the user's method of\n",
      "    bootstrapping the median and its confidence intervals.\n",
      "\n",
      "    Returns an arbitrary median and confidence intervals\n",
      "    packed into a tuple\n",
      "    '''\n",
      "    if n == 1:\n",
      "        med = 0.1\n",
      "        CI = (-0.25, 0.25)\n",
      "    else:\n",
      "        med = 0.2\n",
      "        CI = (-0.35, 0.50)\n",
      "\n",
      "    return med, CI\n",
      "\n",
      "\n",
      "\n",
      "np.random.seed(2)\n",
      "inc = 0.1\n",
      "e1 = np.random.normal(0, 1, size=(500,))\n",
      "e2 = np.random.normal(0, 1, size=(500,))\n",
      "e3 = np.random.normal(0, 1 + inc, size=(500,))\n",
      "e4 = np.random.normal(0, 1 + 2*inc, size=(500,))\n",
      "\n",
      "treatments = [e1,e2,e3,e4]\n",
      "med1, CI1 = fakeBootStrapper(1)\n",
      "med2, CI2 = fakeBootStrapper(2)\n",
      "medians = [None, None, med1, med2]\n",
      "conf_intervals = [None, None, CI1, CI2]\n",
      "\n",
      "fig, ax = plt.subplots()\n",
      "pos = np.array(range(len(treatments)))+1\n",
      "bp = ax.boxplot(treatments, sym='k+', positions=pos,\n",
      "                notch=1, bootstrap=5000,\n",
      "                usermedians=medians,\n",
      "                conf_intervals=conf_intervals)\n",
      "\n",
      "ax.set_xlabel('treatment')\n",
      "ax.set_ylabel('response')\n",
      "plt.setp(bp['whiskers'], color='k',  linestyle='-' )\n",
      "plt.setp(bp['fliers'], markersize=3.0)\n",
      "plt.show()"
     ],
     "language": "python",
     "metadata": {},
     "outputs": [
      {
       "metadata": {},
       "output_type": "display_data",
       "png": "[encoded data removed]",
       "text": [
        "<matplotlib.figure.Figure at 0x10dec8950>"
       ]
      }
     ],
     "prompt_number": 1
    }
   ],
   "metadata": {}
  }
 ]
}