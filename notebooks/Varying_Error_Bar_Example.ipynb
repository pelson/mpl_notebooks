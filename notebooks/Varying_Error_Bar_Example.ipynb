{
 "metadata": {
  "keywords": [
   "python",
   "matplotlib",
   "pylab",
   "example"
  ],
  "name": "",
  "signature": "sha256:cd19063798444f10ffdf2f5cba576c813bf88590bc564b94dad69c6b68dfd502",
  "title": "statistics example code: errorbar_demo_features.py"
 },
 "nbformat": 3,
 "nbformat_minor": 0,
 "worksheets": [
  {
   "cells": [
    {
     "cell_type": "heading",
     "level": 1,
     "metadata": {},
     "source": [
      "Example with varying error bars"
     ]
    },
    {
     "cell_type": "code",
     "collapsed": false,
     "input": [
      "\"\"\"\n",
      "Demo of errorbar function with different ways of specifying error bars.\n",
      "\n",
      "Errors can be specified as a constant value (as shown in `errorbar_demo.py`),\n",
      "or as demonstrated in this example, they can be specified by an N x 1 or 2 x N,\n",
      "where N is the number of data points.\n",
      "\n",
      "N x 1:\n",
      "    Error varies for each point, but the error values are symmetric (i.e. the\n",
      "    lower and upper values are equal).\n",
      "\n",
      "2 x N:\n",
      "    Error varies for each point, and the lower and upper limits (in that order)\n",
      "    are different (asymmetric case)\n",
      "\n",
      "In addition, this example demonstrates how to use log scale with errorbar.\n",
      "\"\"\"\n",
      "import numpy as np\n",
      "import matplotlib.pyplot as plt\n",
      "\n",
      "# example data\n",
      "x = np.arange(0.1, 4, 0.5)\n",
      "y = np.exp(-x)\n",
      "# example error bar values that vary with x-position\n",
      "error = 0.1 + 0.2 * x\n",
      "# error bar values w/ different -/+ errors\n",
      "lower_error = 0.4 * error\n",
      "upper_error = error\n",
      "asymmetric_error = [lower_error, upper_error]\n",
      "\n",
      "fig, (ax0, ax1) = plt.subplots(nrows=2, sharex=True)\n",
      "ax0.errorbar(x, y, yerr=error, fmt='-o')\n",
      "ax0.set_title('variable, symmetric error')\n",
      "\n",
      "ax1.errorbar(x, y, xerr=asymmetric_error, fmt='o')\n",
      "ax1.set_title('variable, asymmetric error')\n",
      "ax1.set_yscale('log')\n",
      "plt.show()"
     ],
     "language": "python",
     "metadata": {},
     "outputs": [
      {
       "metadata": {},
       "output_type": "display_data",
       "png": "[encoded data removed]",
       "text": [
        "<matplotlib.figure.Figure at 0x7f094b26dc90>"
       ]
      }
     ],
     "prompt_number": 1
    }
   ],
   "metadata": {}
  }
 ]
}